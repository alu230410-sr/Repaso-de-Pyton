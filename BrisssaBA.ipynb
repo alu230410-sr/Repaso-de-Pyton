{
  "nbformat": 4,
  "nbformat_minor": 0,
  "metadata": {
    "colab": {
      "provenance": [],
      "authorship_tag": "ABX9TyP7dGUU3e7FVotfr8iO3fYl",
      "include_colab_link": true
    },
    "kernelspec": {
      "name": "python3",
      "display_name": "Python 3"
    },
    "language_info": {
      "name": "python"
    }
  },
  "cells": [
    {
      "cell_type": "markdown",
      "metadata": {
        "id": "view-in-github",
        "colab_type": "text"
      },
      "source": [
        "<a href=\"https://colab.research.google.com/github/alu230410-sr/Repaso-de-Pyton/blob/main/BrisssaBA.ipynb\" target=\"_parent\"><img src=\"https://colab.research.google.com/assets/colab-badge.svg\" alt=\"Open In Colab\"/></a>"
      ]
    },
    {
      "cell_type": "code",
      "execution_count": null,
      "metadata": {
        "id": "W7pbyuqd-6KL"
      },
      "outputs": [],
      "source": []
    },
    {
      "cell_type": "markdown",
      "source": [
        "realizar un programa que permita capturar tu nombre y lo imprima seguido de una bienvenida"
      ],
      "metadata": {
        "id": "bdN2j1Q9_Pbs"
      }
    },
    {
      "cell_type": "code",
      "source": [
        "Nombre=input(\"ingresa tu nombre\")\n",
        "print(nombre,\"Bienvenido al programa\")\n"
      ],
      "metadata": {
        "colab": {
          "base_uri": "https://localhost:8080/",
          "height": 176
        },
        "id": "w2jhIW4i_fHr",
        "outputId": "b689a8a4-efdf-4807-9a8e-49bae1c120ed"
      },
      "execution_count": 9,
      "outputs": [
        {
          "name": "stdout",
          "output_type": "stream",
          "text": [
            "ingresa tu nombrebrissa\n"
          ]
        },
        {
          "output_type": "error",
          "ename": "NameError",
          "evalue": "name 'nombre' is not defined",
          "traceback": [
            "\u001b[0;31m---------------------------------------------------------------------------\u001b[0m",
            "\u001b[0;31mNameError\u001b[0m                                 Traceback (most recent call last)",
            "\u001b[0;32m/tmp/ipython-input-3880953499.py\u001b[0m in \u001b[0;36m<cell line: 0>\u001b[0;34m()\u001b[0m\n\u001b[1;32m      1\u001b[0m \u001b[0mNombre\u001b[0m\u001b[0;34m=\u001b[0m\u001b[0minput\u001b[0m\u001b[0;34m(\u001b[0m\u001b[0;34m\"ingresa tu nombre\"\u001b[0m\u001b[0;34m)\u001b[0m\u001b[0;34m\u001b[0m\u001b[0;34m\u001b[0m\u001b[0m\n\u001b[0;32m----> 2\u001b[0;31m \u001b[0mprint\u001b[0m\u001b[0;34m(\u001b[0m\u001b[0mnombre\u001b[0m\u001b[0;34m,\u001b[0m\u001b[0;34m\"Bienvenido al programa\"\u001b[0m\u001b[0;34m)\u001b[0m\u001b[0;34m\u001b[0m\u001b[0;34m\u001b[0m\u001b[0m\n\u001b[0m",
            "\u001b[0;31mNameError\u001b[0m: name 'nombre' is not defined"
          ]
        }
      ]
    },
    {
      "cell_type": "markdown",
      "source": [
        "Realiza un programa que permita capturar 2 numeros enteros e imprima la suma, la resta, la multiplicacion y la division entre ellos"
      ],
      "metadata": {
        "id": "nItWtAwuC8hM"
      }
    },
    {
      "cell_type": "code",
      "source": [
        "num1=int(input(\"captura un numero\"))\n",
        "num2=int(input(\"captura un numero\"))\n",
        "s=num1+num2\n",
        "print(\"la suma es:\",num1+num2)\n",
        "print(\"la resta es:\",num1-num2)\n",
        "r=num1-num2\n",
        "print(\"la  multiplicacion es:\",num1/num2)\n",
        "m=num1*num2\n",
        "print(\"la divicion es:\",num1/num2)\n",
        "d=num1/num2"
      ],
      "metadata": {
        "colab": {
          "base_uri": "https://localhost:8080/"
        },
        "id": "j18FqHNODMI8",
        "outputId": "6ad90638-0904-45e5-8c6d-7a5e609a2edf"
      },
      "execution_count": 18,
      "outputs": [
        {
          "output_type": "stream",
          "name": "stdout",
          "text": [
            "captura un numero5\n",
            "captura un numero5\n",
            "la suma es: 10\n",
            "la resta es: 0\n",
            "la  multiplicacion es: 1.0\n",
            "la divicion es: 1.0\n"
          ]
        }
      ]
    }
  ]
}