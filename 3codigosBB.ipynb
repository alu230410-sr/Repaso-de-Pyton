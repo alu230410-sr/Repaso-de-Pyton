{
  "nbformat": 4,
  "nbformat_minor": 0,
  "metadata": {
    "colab": {
      "provenance": [],
      "authorship_tag": "ABX9TyPM5jo8nNpqbPlnrCwavDrD",
      "include_colab_link": true
    },
    "kernelspec": {
      "name": "python3",
      "display_name": "Python 3"
    },
    "language_info": {
      "name": "python"
    }
  },
  "cells": [
    {
      "cell_type": "markdown",
      "metadata": {
        "id": "view-in-github",
        "colab_type": "text"
      },
      "source": [
        "<a href=\"https://colab.research.google.com/github/alu230410-sr/Repaso-de-Pyton/blob/main/3codigosBB.ipynb\" target=\"_parent\"><img src=\"https://colab.research.google.com/assets/colab-badge.svg\" alt=\"Open In Colab\"/></a>"
      ]
    },
    {
      "cell_type": "code",
      "execution_count": null,
      "metadata": {
        "id": "yECytSft9MmD"
      },
      "outputs": [],
      "source": [
        "Realizar un programa en python que te permita capturar 3 números enteros e imprima cual de los 3 es el mayor"
      ]
    },
    {
      "cell_type": "markdown",
      "source": [],
      "metadata": {
        "id": "Irhvp72gBtY_"
      }
    },
    {
      "cell_type": "code",
      "source": [
        "num1=int(input(\"ingresaa el primer numero:\"))\n",
        "num2=int(input(\"ingresaa el segundo numero:\"))\n",
        "num3=int(input(\"ingresaa el tercer numero:\"))\n",
        "\n",
        "if num1<=num2 and num1>=num2:\n",
        " mayor =num1\n",
        "if num2 <=num1 and num2>=num3:\n",
        " mayor =num2\n",
        "else:\n",
        " mayor =num3\n",
        "print(\"el numero mayor es:\",mayor)"
      ],
      "metadata": {
        "colab": {
          "base_uri": "https://localhost:8080/"
        },
        "id": "LQ0LBOX--8QO",
        "outputId": "e04d59da-c9a5-4771-e730-8c7b389eabc2"
      },
      "execution_count": 10,
      "outputs": [
        {
          "output_type": "stream",
          "name": "stdout",
          "text": [
            "ingresaa el primer numero:5\n",
            "ingresaa el segundo numero:20\n",
            "ingresaa el tercer numero:30\n",
            "el numero mayor es: 30\n"
          ]
        }
      ]
    },
    {
      "cell_type": "markdown",
      "source": [
        "Realizar un programa en python mediante el cual calcules el total de caracteres que tiene un nombre capturado desde el teclado.\n"
      ],
      "metadata": {
        "id": "Mge5qAAWBy6O"
      }
    },
    {
      "cell_type": "code",
      "source": [
        "nombre = input(\"ingresa el nombre:\")\n",
        "total_caracteres =len(nombre)\n",
        "print(\"el nombre tiene\",total_caracteres,\"caracteres.\")"
      ],
      "metadata": {
        "colab": {
          "base_uri": "https://localhost:8080/"
        },
        "id": "Mh9mGAmSB6yH",
        "outputId": "f0695fbe-dad5-4e13-da82-c6e44985a319"
      },
      "execution_count": 11,
      "outputs": [
        {
          "output_type": "stream",
          "name": "stdout",
          "text": [
            "ingresa el nombre:brissa\n",
            "el nombre tiene 6 caracteres.\n"
          ]
        }
      ]
    },
    {
      "cell_type": "markdown",
      "source": [
        "Realizar un programa en python que permita imprimir los 7 días de la semana."
      ],
      "metadata": {
        "id": "IA-dXLKLC1Il"
      }
    },
    {
      "cell_type": "code",
      "source": [
        "dias =[\"Lunes\",\"martes\",\"miercoles\",\"jueves\",\"viernes\",\"sabado\",\"domingo\"]\n",
        "print(\"los 7 dias de la semana son:\")\n",
        "for dias in dias:\n",
        " print(dias)"
      ],
      "metadata": {
        "colab": {
          "base_uri": "https://localhost:8080/"
        },
        "id": "X6mxKNr0C2gO",
        "outputId": "9c6fb2e9-d7a7-4756-cdd5-fa4b8f397f72"
      },
      "execution_count": 16,
      "outputs": [
        {
          "output_type": "stream",
          "name": "stdout",
          "text": [
            "los 7 dias de la semana son:\n",
            "Lunes\n",
            "martes\n",
            "miercoles\n",
            "jueves\n",
            "viernes\n",
            "sabado\n",
            "domingo\n"
          ]
        }
      ]
    }
  ]
}